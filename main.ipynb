{
 "cells": [
  {
   "cell_type": "code",
   "execution_count": 9,
   "metadata": {},
   "outputs": [],
   "source": [
    "import pandas as pd\n",
    "import seaborn as sns"
   ]
  },
  {
   "cell_type": "code",
   "execution_count": 10,
   "metadata": {},
   "outputs": [
    {
     "data": {
      "text/html": [
       "<div>\n",
       "<style scoped>\n",
       "    .dataframe tbody tr th:only-of-type {\n",
       "        vertical-align: middle;\n",
       "    }\n",
       "\n",
       "    .dataframe tbody tr th {\n",
       "        vertical-align: top;\n",
       "    }\n",
       "\n",
       "    .dataframe thead th {\n",
       "        text-align: right;\n",
       "    }\n",
       "</style>\n",
       "<table border=\"1\" class=\"dataframe\">\n",
       "  <thead>\n",
       "    <tr style=\"text-align: right;\">\n",
       "      <th></th>\n",
       "      <th>Rank</th>\n",
       "      <th>Account</th>\n",
       "      <th>Character</th>\n",
       "      <th>Class</th>\n",
       "      <th>Level</th>\n",
       "      <th>Experience</th>\n",
       "      <th>Dead</th>\n",
       "    </tr>\n",
       "  </thead>\n",
       "  <tbody>\n",
       "    <tr>\n",
       "      <th>0</th>\n",
       "      <td>1</td>\n",
       "      <td>SlayerEwin</td>\n",
       "      <td>Ewin_PoEChudes</td>\n",
       "      <td>Champion</td>\n",
       "      <td>100</td>\n",
       "      <td>4250334444</td>\n",
       "      <td>NaN</td>\n",
       "    </tr>\n",
       "    <tr>\n",
       "      <th>1</th>\n",
       "      <td>2</td>\n",
       "      <td>HUNTERHARD</td>\n",
       "      <td>๕HunterWS๖</td>\n",
       "      <td>Gladiator</td>\n",
       "      <td>100</td>\n",
       "      <td>4250334444</td>\n",
       "      <td>NaN</td>\n",
       "    </tr>\n",
       "    <tr>\n",
       "      <th>2</th>\n",
       "      <td>3</td>\n",
       "      <td>Atlantas</td>\n",
       "      <td>Atlantas_Kalandrovich</td>\n",
       "      <td>Juggernaut</td>\n",
       "      <td>100</td>\n",
       "      <td>4250334444</td>\n",
       "      <td>NaN</td>\n",
       "    </tr>\n",
       "    <tr>\n",
       "      <th>3</th>\n",
       "      <td>4</td>\n",
       "      <td>KaratSergio</td>\n",
       "      <td>KaratSergio</td>\n",
       "      <td>Guardian</td>\n",
       "      <td>100</td>\n",
       "      <td>4250334444</td>\n",
       "      <td>NaN</td>\n",
       "    </tr>\n",
       "    <tr>\n",
       "      <th>4</th>\n",
       "      <td>5</td>\n",
       "      <td>allrandom2</td>\n",
       "      <td>ChaoAndS</td>\n",
       "      <td>Occultist</td>\n",
       "      <td>100</td>\n",
       "      <td>4250334444</td>\n",
       "      <td>NaN</td>\n",
       "    </tr>\n",
       "    <tr>\n",
       "      <th>...</th>\n",
       "      <td>...</td>\n",
       "      <td>...</td>\n",
       "      <td>...</td>\n",
       "      <td>...</td>\n",
       "      <td>...</td>\n",
       "      <td>...</td>\n",
       "      <td>...</td>\n",
       "    </tr>\n",
       "    <tr>\n",
       "      <th>995</th>\n",
       "      <td>996</td>\n",
       "      <td>Klaizz</td>\n",
       "      <td>fsdfglgjosdfljgisdfhjgl</td>\n",
       "      <td>Ranger</td>\n",
       "      <td>2</td>\n",
       "      <td>525</td>\n",
       "      <td>NaN</td>\n",
       "    </tr>\n",
       "    <tr>\n",
       "      <th>996</th>\n",
       "      <td>997</td>\n",
       "      <td>megawoolf</td>\n",
       "      <td>Почтальёнус</td>\n",
       "      <td>Scion</td>\n",
       "      <td>2</td>\n",
       "      <td>525</td>\n",
       "      <td>NaN</td>\n",
       "    </tr>\n",
       "    <tr>\n",
       "      <th>997</th>\n",
       "      <td>998</td>\n",
       "      <td>poelublupizdec</td>\n",
       "      <td>hochutabulu</td>\n",
       "      <td>Ranger</td>\n",
       "      <td>2</td>\n",
       "      <td>525</td>\n",
       "      <td>NaN</td>\n",
       "    </tr>\n",
       "    <tr>\n",
       "      <th>998</th>\n",
       "      <td>999</td>\n",
       "      <td>Judge__Death</td>\n",
       "      <td>satasdgha</td>\n",
       "      <td>Scion</td>\n",
       "      <td>2</td>\n",
       "      <td>525</td>\n",
       "      <td>NaN</td>\n",
       "    </tr>\n",
       "    <tr>\n",
       "      <th>999</th>\n",
       "      <td>1000</td>\n",
       "      <td>KaratSergio</td>\n",
       "      <td>кукуце</td>\n",
       "      <td>Scion</td>\n",
       "      <td>2</td>\n",
       "      <td>525</td>\n",
       "      <td>NaN</td>\n",
       "    </tr>\n",
       "  </tbody>\n",
       "</table>\n",
       "<p>1000 rows × 7 columns</p>\n",
       "</div>"
      ],
      "text/plain": [
       "     Rank         Account                Character       Class  Level  \\\n",
       "0       1      SlayerEwin           Ewin_PoEChudes    Champion    100   \n",
       "1       2      HUNTERHARD               ๕HunterWS๖   Gladiator    100   \n",
       "2       3        Atlantas    Atlantas_Kalandrovich  Juggernaut    100   \n",
       "3       4     KaratSergio              KaratSergio    Guardian    100   \n",
       "4       5      allrandom2                 ChaoAndS   Occultist    100   \n",
       "..    ...             ...                      ...         ...    ...   \n",
       "995   996          Klaizz  fsdfglgjosdfljgisdfhjgl      Ranger      2   \n",
       "996   997       megawoolf              Почтальёнус       Scion      2   \n",
       "997   998  poelublupizdec              hochutabulu      Ranger      2   \n",
       "998   999    Judge__Death                satasdgha       Scion      2   \n",
       "999  1000     KaratSergio                   кукуце       Scion      2   \n",
       "\n",
       "     Experience  Dead  \n",
       "0    4250334444   NaN  \n",
       "1    4250334444   NaN  \n",
       "2    4250334444   NaN  \n",
       "3    4250334444   NaN  \n",
       "4    4250334444   NaN  \n",
       "..          ...   ...  \n",
       "995         525   NaN  \n",
       "996         525   NaN  \n",
       "997         525   NaN  \n",
       "998         525   NaN  \n",
       "999         525   NaN  \n",
       "\n",
       "[1000 rows x 7 columns]"
      ]
     },
     "execution_count": 10,
     "metadata": {},
     "output_type": "execute_result"
    }
   ],
   "source": [
    "df = pd.read_csv(\"data.csv\")\n",
    "df"
   ]
  },
  {
   "cell_type": "code",
   "execution_count": 18,
   "metadata": {},
   "outputs": [
    {
     "data": {
      "text/plain": [
       "Elementalist    74\n",
       "Occultist       63\n",
       "Trickster       63\n",
       "Inquisitor      60\n",
       "Raider          58\n",
       "Name: Class, dtype: int64"
      ]
     },
     "execution_count": 18,
     "metadata": {},
     "output_type": "execute_result"
    }
   ],
   "source": [
    "new_df = df.Class.value_counts()\n",
    "new_df.head()"
   ]
  },
  {
   "cell_type": "code",
   "execution_count": 20,
   "metadata": {},
   "outputs": [
    {
     "data": {
      "text/plain": [
       "<Axes: >"
      ]
     },
     "execution_count": 20,
     "metadata": {},
     "output_type": "execute_result"
    },
    {
     "data": {
      "image/png": "[encoded data removed]",
      "text/plain": [
       "<Figure size 640x480 with 1 Axes>"
      ]
     },
     "metadata": {},
     "output_type": "display_data"
    }
   ],
   "source": [
    "new_df.plot.bar"
   ]
  },
  {
   "cell_type": "code",
   "execution_count": null,
   "metadata": {},
   "outputs": [],
   "source": []
  },
  {
   "cell_type": "code",
   "execution_count": null,
   "metadata": {},
   "outputs": [],
   "source": []
  }
 ],
 "metadata": {
  "interpreter": {
   "hash": "aae5c7c708abc5810ff844b2d16ce06f0bc8ed65a9cdf0e05dc2230be47676cc"
  },
  "kernelspec": {
   "display_name": "Python 3.8.5 64-bit ('env': venv)",
   "language": "python",
   "name": "python3"
  },
  "language_info": {
   "codemirror_mode": {
    "name": "ipython",
    "version": 3
   },
   "file_extension": ".py",
   "mimetype": "text/x-python",
   "name": "python",
   "nbconvert_exporter": "python",
   "pygments_lexer": "ipython3",
   "version": "3.8.5"
  },
  "orig_nbformat": 4
 },
 "nbformat": 4,
 "nbformat_minor": 2
}
